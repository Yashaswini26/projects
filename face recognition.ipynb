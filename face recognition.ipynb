{
 "cells": [
  {
   "cell_type": "markdown",
   "metadata": {},
   "source": [
    "# Face recognation(Major Project)"
   ]
  },
  {
   "cell_type": "code",
   "execution_count": 1,
   "metadata": {},
   "outputs": [],
   "source": [
    "import cv2   # the tool for face recognation\n",
    "face_cascade = cv2.CascadeClassifier('haarcascade_frontalface_default.xml') \n",
    "eye_cascade = cv2.CascadeClassifier('haarcascade_eye.xml')   # these xml file contains the details required to scan \n",
    "                                                            # the eye and face features...\n",
    "cap = cv2.VideoCapture(0)\n",
    "\n",
    "# VideoCapture to begin the use of camera installed in our computers.\n",
    "while 1: \n",
    "    ret, img = cap.read() \n",
    "    gray = cv2.cvtColor(img, cv2.COLOR_BGR2GRAY)    # gray the image so that it could be detectable in our xml file.\n",
    "    faces = face_cascade.detectMultiScale(gray, 1.3, 5)  \n",
    "#we have to detect all face in our image that matches all features in our xml file. \n",
    "#So we will use detectMultiScale function that takes three parameters(Our image, scale factor, minNeighbors\n",
    "        \n",
    "# It will return top left (x,y), height and width. Then we have to draw rectangle for each face.\n",
    "    for x,y,h,w in faces:\n",
    "        #cv2.rectangle takes our image, top left, top right, color and thickness\n",
    "        cv2.rectangle(img,(x,y),(x+w,y+h),(255,255,0),2) #here the color is in the format BGR(blue , green, red)\n",
    "        \n",
    "        #We put our image in region-of-interest. In other word, We define the face.\n",
    "        roi_gray = gray[y:y+h, x:x+w] \n",
    "        roi_color = img[y:y+h, x:x+w]\n",
    "        \n",
    "       # Because each face have two eyes, So we search about two eyes in our region of interest which is the face. \n",
    "        #Then for each eye, we draw our rectangle.\n",
    "        eyes = eye_cascade.detectMultiScale(roi_gray) \n",
    "        for (ex,ey,ew,eh) in eyes: \n",
    "            cv2.rectangle(roi_color,(ex,ey),(ex+ew,ey+eh),(0,127,255),2) \n",
    "    cv2.imshow('img',img)  # to show the details.\n",
    "    if cv2.waitKey(1) & 0xFF == ord('q'):  \n",
    "        break                                        # press q key on keyboard to release the window frame.\n",
    "cap.release() \n",
    "cv2.destroyAllWindows()"
   ]
  },
  {
   "cell_type": "code",
   "execution_count": null,
   "metadata": {},
   "outputs": [],
   "source": []
  }
 ],
 "metadata": {
  "kernelspec": {
   "display_name": "Python 3",
   "language": "python",
   "name": "python3"
  },
  "language_info": {
   "codemirror_mode": {
    "name": "ipython",
    "version": 3
   },
   "file_extension": ".py",
   "mimetype": "text/x-python",
   "name": "python",
   "nbconvert_exporter": "python",
   "pygments_lexer": "ipython3",
   "version": "3.7.1"
  }
 },
 "nbformat": 4,
 "nbformat_minor": 2
}
